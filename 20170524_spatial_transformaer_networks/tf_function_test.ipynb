{
 "cells": [
  {
   "cell_type": "code",
   "execution_count": 1,
   "metadata": {
    "collapsed": false,
    "scrolled": true
   },
   "outputs": [
    {
     "ename": "ModuleNotFoundError",
     "evalue": "No module named 'tensorflow'",
     "output_type": "error",
     "traceback": [
      "\u001b[0;31m---------------------------------------------------------------------------\u001b[0m",
      "\u001b[0;31mModuleNotFoundError\u001b[0m                       Traceback (most recent call last)",
      "\u001b[0;32m<ipython-input-1-5d026006ffce>\u001b[0m in \u001b[0;36m<module>\u001b[0;34m()\u001b[0m\n\u001b[0;32m----> 1\u001b[0;31m \u001b[1;32mimport\u001b[0m \u001b[0mtensorflow\u001b[0m \u001b[1;32mas\u001b[0m \u001b[0mtf\u001b[0m\u001b[1;33m\u001b[0m\u001b[0m\n\u001b[0m\u001b[1;32m      2\u001b[0m \u001b[1;32mfrom\u001b[0m \u001b[0mkeras\u001b[0m \u001b[1;32mimport\u001b[0m \u001b[0mbackend\u001b[0m \u001b[1;32mas\u001b[0m \u001b[0mK\u001b[0m\u001b[1;33m\u001b[0m\u001b[0m\n",
      "\u001b[0;31mModuleNotFoundError\u001b[0m: No module named 'tensorflow'"
     ]
    }
   ],
   "source": [
    "import tensorflow as tf\n",
    "from keras import backend as K"
   ]
  },
  {
   "cell_type": "code",
   "execution_count": 9,
   "metadata": {
    "collapsed": false
   },
   "outputs": [
    {
     "name": "stdout",
     "output_type": "stream",
     "text": [
      "5\n"
     ]
    }
   ],
   "source": [
    "a = tf.constant(2)\n",
    "b = tf.constant(3)\n",
    "x = tf.add(a, b)\n",
    "with tf.Session() as sess:\n",
    "    # add this line to use TensorBoard.\n",
    "    writer = tf.summary.FileWriter('./graphs', sess.graph)\n",
    "    print (sess.run(x))\n",
    "    writer.close()"
   ]
  },
  {
   "cell_type": "code",
   "execution_count": 14,
   "metadata": {
    "collapsed": false
   },
   "outputs": [
    {
     "name": "stdout",
     "output_type": "stream",
     "text": [
      "5\n"
     ]
    }
   ],
   "source": [
    "a = tf.constant(2, name=\"c\")\n",
    "b = tf.constant(3, name=\"d\")\n",
    "x = tf.add(a, b, name=\"add\")\n",
    "writer = tf.summary.FileWriter(\"./graphs\", sess.graph)\n",
    "with tf.Session() as sess:\n",
    "    print (sess.run(x)) # >> 5\n"
   ]
  },
  {
   "cell_type": "code",
   "execution_count": 8,
   "metadata": {
    "collapsed": false
   },
   "outputs": [
    {
     "name": "stdout",
     "output_type": "stream",
     "text": [
      "a+b: [[1 3 5]\n",
      " [4 6 8]]\n",
      "b+a: [[1 3 5]\n",
      " [4 6 8]]\n",
      "a*b: [[ 0  2  6]\n",
      " [ 3  8 15]]\n",
      "b*a: [[ 0  2  6]\n",
      " [ 3  8 15]]\n"
     ]
    }
   ],
   "source": [
    "a = tf.constant([1, 2,3], name=\"a\")\n",
    "b = tf.constant([[0, 1, 2], [3, 4,5]], name=\"b\")\n",
    "x = tf.add(a, b, name=\"add1\")\n",
    "y = tf.add(b, a, name=\"add2\")\n",
    "z = tf.multiply(a, b, name=\"mul1\")\n",
    "w = tf.multiply(b, a, name=\"mul2\")\n",
    "with tf.Session() as sess:\n",
    "    x, y ,z,w = sess.run([x, y, z, w])\n",
    "    print(\"a+b:\", x)\n",
    "    print(\"b+a:\", y)\n",
    "    print(\"a*b:\", z)\n",
    "    print(\"b*a:\", w)\n",
    "    \n"
   ]
  },
  {
   "cell_type": "code",
   "execution_count": 24,
   "metadata": {
    "collapsed": false
   },
   "outputs": [
    {
     "name": "stdout",
     "output_type": "stream",
     "text": [
      "[     0      0      0 ..., 111600 111600 111600]\n",
      "(28800,)\n"
     ]
    }
   ],
   "source": [
    "def repeat(x, num_repeats):\n",
    "    ones = tf.ones((1, num_repeats), dtype='int32')\n",
    "    x = tf.reshape(x, shape=(-1,1))\n",
    "    x = tf.matmul(x, ones)\n",
    "    return tf.reshape(x, [-1])\n",
    "\n",
    "a = tf.range(32, name=\"a\")\n",
    "b = tf.constant(3600, name=\"b\")\n",
    "y = repeat(a*b, 30*30)\n",
    "\n",
    "\n",
    "with tf.Session() as sess:\n",
    "    x = sess.run(y)\n",
    "    print(x)\n",
    "    print(x.shape)\n",
    "# 0,..(900 times)..,0,3600*1,..(900 times)..,3600*1,3600*2,....,3600*2, ......., 3600*31"
   ]
  },
  {
   "cell_type": "code",
   "execution_count": 15,
   "metadata": {
    "collapsed": false
   },
   "outputs": [
    {
     "name": "stdout",
     "output_type": "stream",
     "text": [
      "[7 8 4]\n",
      "Tensor(\"Gather_14:0\", shape=(2, 3), dtype=int32)\n",
      "[[4 5 6]\n",
      " [7 8 4]]\n"
     ]
    }
   ],
   "source": [
    "# gather 蒐集某 index 以下所有的值，並保留維度\n",
    "a = tf.constant(2, name=\"a\")\n",
    "b = tf.constant([[1,2,3],[4,5,6],[7,8,4],[3,2,3],[1,1,23]], name=\"b\")\n",
    "c = tf.constant([1,2], name=\"c\")\n",
    "y = tf.gather(b, a)\n",
    "z = tf.gather(b, c)\n",
    "with tf.Session() as sess:\n",
    "    x,w,f = sess.run([y,z,k])\n",
    "    print(x)\n",
    "    print(z)\n",
    "    print(z.eval())"
   ]
  },
  {
   "cell_type": "code",
   "execution_count": 16,
   "metadata": {
    "collapsed": false
   },
   "outputs": [
    {
     "name": "stdout",
     "output_type": "stream",
     "text": [
      "[[0]\n",
      " [0]\n",
      " [0]\n",
      " [0]\n",
      " [0]\n",
      " [0]\n",
      " [0]\n",
      " [0]\n",
      " [0]\n",
      " [0]]\n",
      "Tensor(\"ExpandDims:0\", shape=(10, 1), dtype=int32)\n",
      "Tensor(\"ExpandDims_1:0\", shape=(10, 1), dtype=int32)\n"
     ]
    }
   ],
   "source": [
    "a = tf.constant([1,2,3,4,5,6,7,8,9,10], name=\"a\")\n",
    "b = tf.constant([1,3,3,3,5,3,7,3,9,3], name=\"b\")\n",
    "c = tf.constant([1,2,3,4,5,6,7,8,9,10], name=\"c\")\n",
    "d = tf.constant([2,2,3,4,1,6,7,1,9,2], name=\"d\")\n",
    "area_a = tf.expand_dims((b-a)*(d-c), 1)\n",
    "area_b = tf.expand_dims((b-a)*(c-d), 1)\n",
    "y = tf.add_n([area_a, area_b])\n",
    "with tf.Session() as sess:\n",
    "    x = sess.run(y)\n",
    "    print(x)\n",
    "    print(area_a)\n",
    "    print(area_b)"
   ]
  },
  {
   "cell_type": "code",
   "execution_count": 6,
   "metadata": {
    "collapsed": false
   },
   "outputs": [
    {
     "name": "stdout",
     "output_type": "stream",
     "text": [
      "meshgrid with batch (2, 3, 25)\n",
      "[[[-1.  -0.5  0.   0.5  1.  -1.  -0.5  0.   0.5  1.  -1.  -0.5  0.   0.5\n",
      "    1.  -1.  -0.5  0.   0.5  1.  -1.  -0.5  0.   0.5  1. ]\n",
      "  [-1.  -1.  -1.  -1.  -1.  -0.5 -0.5 -0.5 -0.5 -0.5  0.   0.   0.   0.   0.\n",
      "    0.5  0.5  0.5  0.5  0.5  1.   1.   1.   1.   1. ]\n",
      "  [ 1.   1.   1.   1.   1.   1.   1.   1.   1.   1.   1.   1.   1.   1.   1.\n",
      "    1.   1.   1.   1.   1.   1.   1.   1.   1.   1. ]]\n",
      "\n",
      " [[-1.  -0.5  0.   0.5  1.  -1.  -0.5  0.   0.5  1.  -1.  -0.5  0.   0.5\n",
      "    1.  -1.  -0.5  0.   0.5  1.  -1.  -0.5  0.   0.5  1. ]\n",
      "  [-1.  -1.  -1.  -1.  -1.  -0.5 -0.5 -0.5 -0.5 -0.5  0.   0.   0.   0.   0.\n",
      "    0.5  0.5  0.5  0.5  0.5  1.   1.   1.   1.   1. ]\n",
      "  [ 1.   1.   1.   1.   1.   1.   1.   1.   1.   1.   1.   1.   1.   1.   1.\n",
      "    1.   1.   1.   1.   1.   1.   1.   1.   1.   1. ]]]\n",
      "aff (2, 2, 3)\n",
      "[[[ 1.          2.          3.        ]\n",
      "  [ 4.          5.          6.        ]]\n",
      "\n",
      " [[-0.1        -0.2        -0.30000001]\n",
      "  [-0.40000001 -0.5        -0.60000002]]]\n",
      "new coor (2, 2, 25)\n",
      "[[[  0.           0.5          1.           1.5          2.           1.\n",
      "     1.5          2.           2.5          3.           2.           2.5\n",
      "     3.           3.5          4.           3.           3.5          4.\n",
      "     4.5          5.           4.           4.5          5.           5.5\n",
      "     6.        ]\n",
      "  [ -3.          -1.           1.           3.           5.          -0.5\n",
      "     1.5          3.5          5.5          7.5          2.           4.\n",
      "     6.           8.          10.           4.5          6.5          8.5\n",
      "    10.5         12.5          7.           9.          11.          13.\n",
      "    15.        ]]\n",
      "\n",
      " [[  0.          -0.05000001  -0.10000001  -0.15000001  -0.20000002\n",
      "    -0.10000001  -0.15000001  -0.20000002  -0.25        -0.30000001\n",
      "    -0.20000002  -0.25        -0.30000001  -0.35000002  -0.40000001\n",
      "    -0.30000001  -0.35000002  -0.40000001  -0.45000002  -0.5         -0.40000001\n",
      "    -0.45000002  -0.5         -0.55000001  -0.60000002]\n",
      "  [  0.29999995   0.09999996  -0.10000002  -0.30000001  -0.5          0.04999995\n",
      "    -0.15000004  -0.35000002  -0.55000001  -0.75        -0.20000002\n",
      "    -0.40000004  -0.60000002  -0.80000001  -1.          -0.45000002\n",
      "    -0.65000004  -0.85000002  -1.04999995  -1.25        -0.70000005\n",
      "    -0.90000004  -1.10000002  -1.29999995  -1.5       ]]]\n",
      "new x (2, 1, 25)\n",
      "[[[ 0.          0.5         1.          1.5         2.          1.          1.5\n",
      "    2.          2.5         3.          2.          2.5         3.          3.5\n",
      "    4.          3.          3.5         4.          4.5         5.          4.\n",
      "    4.5         5.          5.5         6.        ]]\n",
      "\n",
      " [[ 0.         -0.05000001 -0.10000001 -0.15000001 -0.20000002 -0.10000001\n",
      "   -0.15000001 -0.20000002 -0.25       -0.30000001 -0.20000002 -0.25\n",
      "   -0.30000001 -0.35000002 -0.40000001 -0.30000001 -0.35000002 -0.40000001\n",
      "   -0.45000002 -0.5        -0.40000001 -0.45000002 -0.5        -0.55000001\n",
      "   -0.60000002]]]\n",
      "new y (2, 1, 25)\n",
      "[[[ -3.          -1.           1.           3.           5.          -0.5\n",
      "     1.5          3.5          5.5          7.5          2.           4.\n",
      "     6.           8.          10.           4.5          6.5          8.5\n",
      "    10.5         12.5          7.           9.          11.          13.\n",
      "    15.        ]]\n",
      "\n",
      " [[  0.29999995   0.09999996  -0.10000002  -0.30000001  -0.5          0.04999995\n",
      "    -0.15000004  -0.35000002  -0.55000001  -0.75        -0.20000002\n",
      "    -0.40000004  -0.60000002  -0.80000001  -1.          -0.45000002\n",
      "    -0.65000004  -0.85000002  -1.04999995  -1.25        -0.70000005\n",
      "    -0.90000004  -1.10000002  -1.29999995  -1.5       ]]]\n"
     ]
    }
   ],
   "source": [
    "def meshgrid(height, width):\n",
    "    x_linspace = tf.linspace(-1., 1., width)\n",
    "    y_linspace = tf.linspace(-1., 1., height)\n",
    "    x_coordinates, y_coordinates = tf.meshgrid(x_linspace, y_linspace)\n",
    "    x_coordinates = tf.reshape(x_coordinates, [-1])\n",
    "    y_coordinates = tf.reshape(y_coordinates, [-1])\n",
    "    ones = tf.ones_like(x_coordinates)\n",
    "    indices_grid = tf.concat([x_coordinates, y_coordinates, ones], 0)\n",
    "    return indices_grid\n",
    "\n",
    "aff = tf.constant([[1,2,3,4,5,6],[-.1,-.2,-.3,-.4,-.5,-.6]])\n",
    "aff = tf.reshape(aff, shape=(2,2,3))\n",
    "aff = tf.reshape(aff, (-1, 2, 3))\n",
    "aff = tf.cast(aff, 'float32')\n",
    "a = tf.constant(5, name=\"a\")\n",
    "b = meshgrid(a,a)\n",
    "c = tf.expand_dims(b, 0)\n",
    "d = tf.reshape(c, [-1])\n",
    "e = tf.tile(d, tf.stack([2]))\n",
    "f = tf.reshape(e, (2, 3, -1))\n",
    "res = tf.matmul(aff, f)\n",
    "x_s = tf.slice(res, [0, 0, 0], [-1, 1, -1])\n",
    "y_s = tf.slice(res, [0, 1, 0], [-1, 1, -1])\n",
    "with tf.Session() as sess:\n",
    "    b,c,d,e,f,aff,res,x_s,y_s = sess.run([b,c,d,e,f,aff, res,x_s,y_s])\n",
    "    print('b',b.shape)\n",
    "    print(b)\n",
    "#     print('c',c.shape)\n",
    "#     print(c)\n",
    "#     print('d',d.shape)\n",
    "#     print(d)\n",
    "#     print('e',e.shape)\n",
    "#     print(e)\n",
    "    print('meshgrid with batch',f.shape)\n",
    "    print(f)\n",
    "    print('aff',aff.shape)\n",
    "    print(aff)\n",
    "    print('new coor',res.shape)\n",
    "    print(res)\n",
    "    print('new x',x_s.shape)\n",
    "    print(x_s)\n",
    "    print('new y',y_s.shape)\n",
    "    print(y_s)"
   ]
  },
  {
   "cell_type": "code",
   "execution_count": 8,
   "metadata": {
    "collapsed": false
   },
   "outputs": [
    {
     "name": "stdout",
     "output_type": "stream",
     "text": [
      "flow_ori (2, 2, 9)\n",
      "meshgrid with batch (2, 2, 9)\n",
      "[[[-1.  0.  1. -1.  0.  1. -1.  0.  1.]\n",
      "  [-1. -1. -1.  0.  0.  0.  1.  1.  1.]]\n",
      "\n",
      " [[-1.  0.  1. -1.  0.  1. -1.  0.  1.]\n",
      "  [-1. -1. -1.  0.  0.  0.  1.  1.  1.]]]\n",
      "flow (2, 2, 9)\n",
      "[[[  1.00000000e+00   2.00000000e+00   3.00000000e+00   4.00000000e+00\n",
      "     5.00000000e+00   6.00000000e+00   7.00000000e+00   8.00000000e+00\n",
      "     9.00000000e+00]\n",
      "  [ -1.00000001e-01  -2.00000003e-01  -3.00000012e-01  -4.00000006e-01\n",
      "    -5.00000000e-01  -6.00000024e-01  -6.99999988e-01  -8.00000012e-01\n",
      "    -8.99999976e-01]]\n",
      "\n",
      " [[  1.00000000e+01   1.00000000e+01   3.00000000e+01   4.00000000e+01\n",
      "     5.00000000e+01   6.00000000e+01   7.00000000e+01   8.00000000e+01\n",
      "     9.00000000e+01]\n",
      "  [ -9.99999978e-03  -1.99999996e-02  -2.99999993e-02  -3.99999991e-02\n",
      "    -5.00000007e-02  -5.99999987e-02  -7.00000003e-02  -7.99999982e-02\n",
      "    -9.00000036e-02]]]\n",
      "new coor (2, 2, 9)\n",
      "[[[  0.00000000e+00   2.00000000e+00   4.00000000e+00   3.00000000e+00\n",
      "     5.00000000e+00   7.00000000e+00   6.00000000e+00   8.00000000e+00\n",
      "     1.00000000e+01]\n",
      "  [ -1.10000002e+00  -1.20000005e+00  -1.29999995e+00  -4.00000006e-01\n",
      "    -5.00000000e-01  -6.00000024e-01   3.00000012e-01   1.99999988e-01\n",
      "     1.00000024e-01]]\n",
      "\n",
      " [[  9.00000000e+00   1.00000000e+01   3.10000000e+01   3.90000000e+01\n",
      "     5.00000000e+01   6.10000000e+01   6.90000000e+01   8.00000000e+01\n",
      "     9.10000000e+01]\n",
      "  [ -1.00999999e+00  -1.01999998e+00  -1.02999997e+00  -3.99999991e-02\n",
      "    -5.00000007e-02  -5.99999987e-02   9.30000007e-01   9.20000017e-01\n",
      "     9.09999967e-01]]]\n",
      "new x (2, 1, 9)\n",
      "[[[  0.   2.   4.   3.   5.   7.   6.   8.  10.]]\n",
      "\n",
      " [[  9.  10.  31.  39.  50.  61.  69.  80.  91.]]]\n",
      "new y (2, 1, 9)\n",
      "[[[-1.10000002 -1.20000005 -1.29999995 -0.40000001 -0.5        -0.60000002\n",
      "    0.30000001  0.19999999  0.10000002]]\n",
      "\n",
      " [[-1.00999999 -1.01999998 -1.02999997 -0.04       -0.05       -0.06\n",
      "    0.93000001  0.92000002  0.90999997]]]\n"
     ]
    }
   ],
   "source": [
    "def meshgrid(height, width):\n",
    "    x_linspace = tf.linspace(-1., 1., width)\n",
    "    y_linspace = tf.linspace(-1., 1., height)\n",
    "    x_coordinates, y_coordinates = tf.meshgrid(x_linspace, y_linspace)\n",
    "    x_coordinates = tf.reshape(x_coordinates, [-1])\n",
    "    y_coordinates = tf.reshape(y_coordinates, [-1])\n",
    "#     ones = tf.ones_like(x_coordinates)\n",
    "    indices_grid = tf.concat([x_coordinates, y_coordinates], 0)\n",
    "    return indices_grid\n",
    "\n",
    "aff_ori = tf.constant([[[1,2,3,4,5,6,7,8,9],[-.1,-.2,-.3,-.4,-.5,-.6,-.7,-.8,-.9]],\n",
    "                  [[10,10,30,40,50,60,70,80,90],[-.01,-.02,-.03,-.04,-.05,-.06,-.07,-.08,-.09]]])\n",
    "aff = tf.reshape(aff, shape=(2,2,-1))\n",
    "aff = tf.cast(aff, 'float32')\n",
    "a = tf.constant(3, name=\"a\")\n",
    "b = meshgrid(a,a)\n",
    "c = tf.tile(b, tf.stack([2]))\n",
    "d = tf.reshape(c, (2, 2, -1))\n",
    "res = tf.add(aff, d)\n",
    "x_s = tf.slice(res, [0, 0, 0], [-1, 1, -1])\n",
    "y_s = tf.slice(res, [0, 1, 0], [-1, 1, -1])\n",
    "with tf.Session() as sess:\n",
    "    aff_ori,b,c,d,aff,res,x_s,y_s = sess.run([aff_ori,b,c,d,aff,res,x_s,y_s])\n",
    "#     print(b.shape)\n",
    "#     print(b)\n",
    "#     print(c.shape)\n",
    "#     print(c)\n",
    "    print('flow_ori',aff_ori.shape)\n",
    "    print('meshgrid with batch',d.shape)\n",
    "    print(d)\n",
    "    print('flow',aff.shape)\n",
    "    print(aff)\n",
    "    print('new coor',res.shape)\n",
    "    print(res)\n",
    "    print('new x',x_s.shape)\n",
    "    print(x_s)\n",
    "    print('new y',y_s.shape)\n",
    "    print(y_s)"
   ]
  },
  {
   "cell_type": "code",
   "execution_count": 8,
   "metadata": {
    "collapsed": false
   },
   "outputs": [
    {
     "name": "stdout",
     "output_type": "stream",
     "text": [
      "[[[ 1.33333325  1.33333325  0.99999994]\n",
      "  [ 0.99999994  0.99999994  1.66666651]]\n",
      "\n",
      " [[ 0.99999994  0.99999994  1.33333325]\n",
      "  [ 0.66666663  1.66666651  0.99999994]]\n",
      "\n",
      " [[ 0.66666663  1.99999988  0.99999994]\n",
      "  [ 0.66666663  0.99999994  0.        ]]]\n"
     ]
    },
    {
     "data": {
      "text/plain": [
       "(3, 2, 3, 3)"
      ]
     },
     "execution_count": 8,
     "metadata": {},
     "output_type": "execute_result"
    }
   ],
   "source": [
    "def mean_squared_error(y_true, y_pred):\n",
    "#     return K.mean(K.square(y_pred - y_true), axis=-1)\n",
    "    return K.mean(K.sqrt(K.square(y_pred - y_true)), axis=-1)\n",
    "    \n",
    "\n",
    "a = tf.constant([[[[1.,2.],[4.,5.],[7.,8.]],\n",
    "                [[1.,3.],[4.,6.],[8.,9.]],\n",
    "                [[1.,3.],[4.,6.],[7.,8.]]],\n",
    "                [[[1.,3.],[4.,5.],[7.,9.]],\n",
    "                [[1.,2.],[4.,5.],[7.,9.]],\n",
    "                [[1.,3.],[4.,5.],[7.,9.]]],\n",
    "                [[[2.,3.],[4.,6.],[7.,9.]],\n",
    "                [[2.,3.],[4.,6.],[7.,9.]],\n",
    "                [[1.,3.],[4.,6.],[7.,9.]]]], name=\"a\")\n",
    "b = tf.constant([[[[2.,3.],[5.,7.],[8.,10.]],\n",
    "                [[2.,4.],[6.,7.],[8.,10.]],\n",
    "                [[3.,4.],[5.,6.],[9.,10.]]],\n",
    "                [[[1.,3.],[5.,7.],[8.,10.]],\n",
    "                [[3.,4.],[5.,7.],[9.,10.]],\n",
    "                [[2.,3.],[5.,6.],[8.,10.]]],\n",
    "                [[[2.,3.],[6.,7.],[8.,9.]],\n",
    "                [[3.,4.],[6.,7.],[8.,9.]],\n",
    "                [[2.,4.],[6.,7.],[8.,9.]]]], name=\"b\")\n",
    "a = tf.transpose(a,[0,3,2,1])\n",
    "b = tf.transpose(b,[0,3,2,1])\n",
    "x = mean_squared_error(a,b)\n",
    "\n",
    "with tf.Session() as sess:\n",
    "    a,b,x = sess.run([a,b,x])\n",
    "print(x)\n",
    "a.shape"
   ]
  }
 ],
 "metadata": {
  "kernelspec": {
   "display_name": "Python 3",
   "language": "python",
   "name": "python3"
  },
  "language_info": {
   "codemirror_mode": {
    "name": "ipython",
    "version": 3
   },
   "file_extension": ".py",
   "mimetype": "text/x-python",
   "name": "python",
   "nbconvert_exporter": "python",
   "pygments_lexer": "ipython3",
   "version": "3.6.0"
  }
 },
 "nbformat": 4,
 "nbformat_minor": 2
}
