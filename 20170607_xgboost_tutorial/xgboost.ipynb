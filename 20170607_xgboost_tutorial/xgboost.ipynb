{
 "cells": [
  {
   "cell_type": "code",
   "execution_count": 2,
   "metadata": {
    "collapsed": false
   },
   "outputs": [
    {
     "name": "stdout",
     "output_type": "stream",
     "text": [
      "Populating the interactive namespace from numpy and matplotlib\n"
     ]
    }
   ],
   "source": [
    "from numpy import loadtxt\n",
    "from xgboost import XGBClassifier\n",
    "from sklearn.cross_validation import train_test_split\n",
    "from sklearn.metrics import accuracy_score\n",
    "import matplotlib.pyplot as plt\n",
    "% pylab inline\n",
    "# load data\n",
    "dataset = loadtxt(\"./2017_xgboost_tutorial/data/data.txt\", delimiter=\",\")\n",
    "# split data into X and y\n",
    "X = dataset[:,0:8]\n",
    "y = dataset[:,8]"
   ]
  },
  {
   "cell_type": "code",
   "execution_count": 17,
   "metadata": {
    "collapsed": false
   },
   "outputs": [
    {
     "name": "stdout",
     "output_type": "stream",
     "text": [
      "(768, 8)\n"
     ]
    }
   ],
   "source": [
    "print(X.shape)"
   ]
  },
  {
   "cell_type": "code",
   "execution_count": 18,
   "metadata": {
    "collapsed": false
   },
   "outputs": [],
   "source": [
    "X_train, X_test, y_train, y_test = train_test_split(X, y, random_state = 7, test_size = 0.33)"
   ]
  },
  {
   "cell_type": "code",
   "execution_count": 19,
   "metadata": {
    "collapsed": false
   },
   "outputs": [
    {
     "name": "stdout",
     "output_type": "stream",
     "text": [
      "[0]\tvalidation_0-auc:0.817834\n",
      "Will train until validation_0-auc hasn't improved in 10 rounds.\n",
      "[1]\tvalidation_0-auc:0.816861\n",
      "[2]\tvalidation_0-auc:0.817297\n",
      "[3]\tvalidation_0-auc:0.824913\n",
      "[4]\tvalidation_0-auc:0.823034\n",
      "[5]\tvalidation_0-auc:0.824946\n",
      "[6]\tvalidation_0-auc:0.822632\n",
      "[7]\tvalidation_0-auc:0.827026\n",
      "[8]\tvalidation_0-auc:0.824242\n",
      "[9]\tvalidation_0-auc:0.825114\n",
      "[10]\tvalidation_0-auc:0.823705\n",
      "[11]\tvalidation_0-auc:0.826557\n",
      "[12]\tvalidation_0-auc:0.826087\n",
      "[13]\tvalidation_0-auc:0.828637\n",
      "[14]\tvalidation_0-auc:0.826188\n",
      "[15]\tvalidation_0-auc:0.827261\n",
      "[16]\tvalidation_0-auc:0.824678\n",
      "[17]\tvalidation_0-auc:0.825349\n",
      "[18]\tvalidation_0-auc:0.827798\n",
      "[19]\tvalidation_0-auc:0.830213\n",
      "[20]\tvalidation_0-auc:0.829509\n",
      "[21]\tvalidation_0-auc:0.827865\n",
      "[22]\tvalidation_0-auc:0.828335\n",
      "[23]\tvalidation_0-auc:0.828771\n",
      "[24]\tvalidation_0-auc:0.828435\n",
      "[25]\tvalidation_0-auc:0.829006\n",
      "[26]\tvalidation_0-auc:0.828435\n",
      "[27]\tvalidation_0-auc:0.829173\n",
      "[28]\tvalidation_0-auc:0.828704\n",
      "[29]\tvalidation_0-auc:0.829039\n",
      "Stopping. Best iteration:\n",
      "[19]\tvalidation_0-auc:0.830213\n",
      "\n"
     ]
    },
    {
     "data": {
      "text/plain": [
       "XGBClassifier(base_score=0.5, colsample_bylevel=1, colsample_bytree=1,\n",
       "       gamma=0, learning_rate=0.1, max_delta_step=0, max_depth=3,\n",
       "       min_child_weight=1, missing=None, n_estimators=100, nthread=-1,\n",
       "       objective='binary:logistic', reg_alpha=0, reg_lambda=1,\n",
       "       scale_pos_weight=1, seed=0, silent=True, subsample=1)"
      ]
     },
     "execution_count": 19,
     "metadata": {},
     "output_type": "execute_result"
    }
   ],
   "source": [
    "# eval_metrics = rmse, logloss, error, auc, merror, mlogloss, custom\n",
    "eval_set =  [(X_test, y_test)]\n",
    "model = XGBClassifier()\n",
    "model.fit(X_train, y_train, early_stopping_rounds=10, eval_metric=\"auc\", eval_set=eval_set, verbose=True)"
   ]
  },
  {
   "cell_type": "code",
   "execution_count": 21,
   "metadata": {
    "collapsed": true
   },
   "outputs": [],
   "source": [
    "import xgboost\n"
   ]
  },
  {
   "cell_type": "code",
   "execution_count": 20,
   "metadata": {
    "collapsed": false
   },
   "outputs": [
    {
     "data": {
      "text/plain": [
       "array([ 0.,  1.,  1.,  0.,  0.,  1.,  0.,  0.,  1.,  0.,  1.,  0.,  1.,\n",
       "        1.,  0.,  0.,  0.,  0.,  0.,  0.])"
      ]
     },
     "execution_count": 20,
     "metadata": {},
     "output_type": "execute_result"
    }
   ],
   "source": [
    "y_pred = model.predict_proba(X_test)\n",
    "y_pred[:20]"
   ]
  },
  {
   "cell_type": "code",
   "execution_count": 22,
   "metadata": {
    "collapsed": false
   },
   "outputs": [
    {
     "name": "stdout",
     "output_type": "stream",
     "text": [
      "Accuracy: 76.77%\n"
     ]
    }
   ],
   "source": [
    "y_pred = model.predict(X_test)\n",
    "predictions = [round(value) for value in y_pred]\n",
    "accuracy = accuracy_score(y_test, predictions)\n",
    "print(\"Accuracy: %.2f%%\" % (accuracy * 100.0))"
   ]
  },
  {
   "cell_type": "code",
   "execution_count": 23,
   "metadata": {
    "collapsed": false
   },
   "outputs": [
    {
     "name": "stdout",
     "output_type": "stream",
     "text": [
      "[ 0.046875    0.24479167  0.04166667  0.078125    0.04166667  0.18229167\n",
      "  0.13020833  0.234375  ]\n"
     ]
    }
   ],
   "source": [
    "print(model.feature_importances_)"
   ]
  },
  {
   "cell_type": "code",
   "execution_count": 8,
   "metadata": {
    "collapsed": false
   },
   "outputs": [
    {
     "data": {
      "image/png": "[encoded data removed]",
      "text/plain": [
       "<matplotlib.figure.Figure at 0x7f41d1d55cf8>"
      ]
     },
     "metadata": {},
     "output_type": "display_data"
    }
   ],
   "source": [
    "from xgboost import plot_importance\n",
    "plot_importance(model, )\n",
    "plt.show()"
   ]
  },
  {
   "cell_type": "code",
   "execution_count": 9,
   "metadata": {
    "collapsed": false
   },
   "outputs": [],
   "source": [
    "from sklearn.grid_search import GridSearchCV\n",
    "from sklearn.cross_validation import StratifiedKFold"
   ]
  },
  {
   "cell_type": "code",
   "execution_count": 24,
   "metadata": {
    "collapsed": false
   },
   "outputs": [],
   "source": [
    "max_depth = [2, 4, 6, 8]\n",
    "reg_lambda = [0, 1, 2]\n",
    "param_grid = dict(reg_lambda=reg_lambda, max_depth=max_depth, n_estimators=[200])"
   ]
  },
  {
   "cell_type": "code",
   "execution_count": 27,
   "metadata": {
    "collapsed": true
   },
   "outputs": [],
   "source": [
    "?XGBClassifier()"
   ]
  },
  {
   "cell_type": "code",
   "execution_count": 29,
   "metadata": {
    "collapsed": false
   },
   "outputs": [
    {
     "name": "stdout",
     "output_type": "stream",
     "text": [
      "Fitting 5 folds for each of 12 candidates, totalling 60 fits\n"
     ]
    },
    {
     "name": "stderr",
     "output_type": "stream",
     "text": [
      "[Parallel(n_jobs=2)]: Done  60 out of  60 | elapsed:    4.0s finished\n"
     ]
    }
   ],
   "source": [
    "model = XGBClassifier(objective=\"binary:logistic\")\n",
    "kfold = StratifiedKFold(y, n_folds=5, shuffle=True)\n",
    "grid_search = GridSearchCV(model, param_grid, scoring=\"roc_auc\", n_jobs=1, cv=kfold, verbose = 1)\n",
    "grid_result = grid_search.fit(X, y)"
   ]
  },
  {
   "cell_type": "code",
   "execution_count": 26,
   "metadata": {
    "collapsed": false
   },
   "outputs": [
    {
     "name": "stdout",
     "output_type": "stream",
     "text": [
      "Best: 0.827962 using {'n_estimators': 200, 'reg_lambda': 2, 'max_depth': 2}\n"
     ]
    }
   ],
   "source": [
    "print(\"Best: %f using %s\" % (grid_result.best_score_, grid_result.best_params_))"
   ]
  },
  {
   "cell_type": "code",
   "execution_count": 30,
   "metadata": {
    "collapsed": false
   },
   "outputs": [
    {
     "name": "stdout",
     "output_type": "stream",
     "text": [
      "[0]\tvalidation_0-auc:0.817834\n",
      "Will train until validation_0-auc hasn't improved in 10 rounds.\n",
      "[1]\tvalidation_0-auc:0.816861\n",
      "[2]\tvalidation_0-auc:0.817297\n",
      "[3]\tvalidation_0-auc:0.824913\n",
      "[4]\tvalidation_0-auc:0.823034\n",
      "[5]\tvalidation_0-auc:0.824946\n",
      "[6]\tvalidation_0-auc:0.822632\n",
      "[7]\tvalidation_0-auc:0.827026\n",
      "[8]\tvalidation_0-auc:0.824242\n",
      "[9]\tvalidation_0-auc:0.825114\n",
      "[10]\tvalidation_0-auc:0.823705\n",
      "[11]\tvalidation_0-auc:0.826557\n",
      "[12]\tvalidation_0-auc:0.826087\n",
      "[13]\tvalidation_0-auc:0.828637\n",
      "[14]\tvalidation_0-auc:0.826188\n",
      "[15]\tvalidation_0-auc:0.827261\n",
      "[16]\tvalidation_0-auc:0.824678\n",
      "[17]\tvalidation_0-auc:0.825349\n",
      "[18]\tvalidation_0-auc:0.827798\n",
      "[19]\tvalidation_0-auc:0.830213\n",
      "[20]\tvalidation_0-auc:0.829509\n",
      "[21]\tvalidation_0-auc:0.827865\n",
      "[22]\tvalidation_0-auc:0.828335\n",
      "[23]\tvalidation_0-auc:0.828771\n",
      "[24]\tvalidation_0-auc:0.828435\n",
      "[25]\tvalidation_0-auc:0.829006\n",
      "[26]\tvalidation_0-auc:0.828435\n",
      "[27]\tvalidation_0-auc:0.829173\n",
      "[28]\tvalidation_0-auc:0.828704\n",
      "[29]\tvalidation_0-auc:0.829039\n",
      "Stopping. Best iteration:\n",
      "[19]\tvalidation_0-auc:0.830213\n",
      "\n"
     ]
    },
    {
     "data": {
      "text/plain": [
       "XGBClassifier(base_score=0.5, colsample_bylevel=1, colsample_bytree=1,\n",
       "       gamma=0, learning_rate=0.1, max_delta_step=0, max_depth=3,\n",
       "       min_child_weight=1, missing=None, n_estimators=100, nthread=-1,\n",
       "       objective='binary:logistic', reg_alpha=0, reg_lambda=1,\n",
       "       scale_pos_weight=1, seed=0, silent=True, subsample=1)"
      ]
     },
     "execution_count": 30,
     "metadata": {},
     "output_type": "execute_result"
    }
   ],
   "source": [
    "eval_set =  [(X_test, y_test)]\n",
    "colsample_bytree = 0.7\n",
    "model = XGBClassifier()\n",
    "model.fit(X_train, y_train, early_stopping_rounds=10, eval_metric=\"auc\", eval_set=eval_set, verbose=True)"
   ]
  },
  {
   "cell_type": "code",
   "execution_count": 31,
   "metadata": {
    "collapsed": false
   },
   "outputs": [
    {
     "data": {
      "text/plain": [
       "<matplotlib.axes._subplots.AxesSubplot at 0x7f416570b6a0>"
      ]
     },
     "execution_count": 31,
     "metadata": {},
     "output_type": "execute_result"
    },
    {
     "data": {
      "image/png": "[encoded data removed]",
      "text/plain": [
       "<matplotlib.figure.Figure at 0x7f416efb3cf8>"
      ]
     },
     "metadata": {},
     "output_type": "display_data"
    }
   ],
   "source": [
    "from xgboost import plot_tree\n",
    "from matplotlib.pylab import rcParams\n",
    "\n",
    "plot_tree(model, num_trees=1)\n",
    "# plt.title(\"max_depth = 100, with gamma = 10\")\n",
    "# plt.savefig(\"tree_with_max_depth_gamma\", dpi = 700)"
   ]
  },
  {
   "cell_type": "markdown",
   "metadata": {
    "collapsed": true
   },
   "source": [
    "## Reference for XGBoost\n",
    "\n",
    "[Well explained for Gradient Boosting](http://blog.kaggle.com/2017/01/23/a-kaggle-master-explains-gradient-boosting/)\n",
    "\n",
    "[Analytic vidhya parameter tuning](https://www.analyticsvidhya.com/blog/2016/03/complete-guide-parameter-tuning-xgboost-with-codes-python/)\n",
    "[How parralle xgboost work](http://zhanpengfang.github.io/418home.html)\n",
    "\n",
    "[How to tune gamma](https://medium.com/data-design/xgboost-hi-im-gamma-what-can-i-do-for-you-and-the-tuning-of-regularization-a42ea17e6ab6)\n",
    "\n",
    "[slides for xgboost by tqchen](http://homes.cs.washington.edu/~tqchen/pdf/BoostedTree.pdf)\n",
    "\n",
    "[slides for xgboost by kaggle winner](https://www.slideshare.net/ShangxuanZhang/kaggle-winning-solution-xgboost-algorithm-let-us-learn-from-its-author)\n",
    "\n",
    "[xgboost 理論與參數介紹](http://odjt9j2ec.bkt.clouddn.com/xgboost-xgboost%E5%AF%BC%E8%AF%BB%E5%92%8C%E5%AE%9E%E6%88%98.pdf)\n"
   ]
  },
  {
   "cell_type": "code",
   "execution_count": null,
   "metadata": {
    "collapsed": true
   },
   "outputs": [],
   "source": []
  }
 ],
 "metadata": {
  "kernelspec": {
   "display_name": "Python 3",
   "language": "python",
   "name": "python3"
  },
  "language_info": {
   "codemirror_mode": {
    "name": "ipython",
    "version": 3
   },
   "file_extension": ".py",
   "mimetype": "text/x-python",
   "name": "python",
   "nbconvert_exporter": "python",
   "pygments_lexer": "ipython3",
   "version": "3.5.1"
  }
 },
 "nbformat": 4,
 "nbformat_minor": 0
}
