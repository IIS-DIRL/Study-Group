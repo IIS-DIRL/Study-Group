{
 "cells": [
  {
   "cell_type": "markdown",
   "metadata": {},
   "source": [
    "# Decorator"
   ]
  },
  {
   "cell_type": "markdown",
   "metadata": {},
   "source": [
    "## Basic concept\n",
    "\n",
    "基本的 decorator 概念就是把 function 當作參數丟入另一個 function"
   ]
  },
  {
   "cell_type": "code",
   "execution_count": 1,
   "metadata": {},
   "outputs": [
    {
     "name": "stdout",
     "output_type": "stream",
     "text": [
      "Before func\n",
      "This is f1 function\n",
      "After func\n"
     ]
    }
   ],
   "source": [
    "def deco(func):\n",
    "    def wrapped():\n",
    "        print('Before func')\n",
    "        func()\n",
    "        print('After func')\n",
    "    return wrapped\n",
    "\n",
    "@deco\n",
    "def f1():\n",
    "    print('This is f1 function')\n",
    "\n",
    "f1()"
   ]
  },
  {
   "cell_type": "markdown",
   "metadata": {},
   "source": [
    "## Problem 1 : lost original attribute\n",
    "\n",
    "當我們用 decorator 把原本的 function 包起來的時候, 以上面的程式碼為例, 呼叫 f1() 其實是執行 wrapped()\n",
    "這時候如果我們希望取得跟 f1 本身有關的屬性就存取不到了, 取而代之的會存取到 wrapped() 的參數"
   ]
  },
  {
   "cell_type": "code",
   "execution_count": 2,
   "metadata": {},
   "outputs": [
    {
     "name": "stdout",
     "output_type": "stream",
     "text": [
      "wrapped\n"
     ]
    }
   ],
   "source": [
    "def deco(func):\n",
    "    def wrapped():\n",
    "        print('Before func')\n",
    "        func()\n",
    "        print('After func')\n",
    "    return wrapped\n",
    "\n",
    "@deco\n",
    "def f1():\n",
    "    print('This is f1 function')\n",
    "    \n",
    "print(f1.__name__)"
   ]
  },
  {
   "cell_type": "markdown",
   "metadata": {},
   "source": [
    "## Solution 1: Using the build-in functools.wraps\n",
    "\n",
    "可以透過內建的 functolls.wraps 把原本 function 屬性保留下來"
   ]
  },
  {
   "cell_type": "code",
   "execution_count": 3,
   "metadata": {},
   "outputs": [
    {
     "name": "stdout",
     "output_type": "stream",
     "text": [
      "f1\n"
     ]
    }
   ],
   "source": [
    "from functools import wraps\n",
    "\n",
    "def deco(func):\n",
    "    @wraps(func)\n",
    "    def wrapped():\n",
    "        print('Before func')\n",
    "        func()\n",
    "        print('After func')\n",
    "    return wrapped\n",
    "\n",
    "@deco\n",
    "def f1():\n",
    "    print('This is f1 function')\n",
    "    \n",
    "print(f1.__name__)"
   ]
  },
  {
   "cell_type": "markdown",
   "metadata": {},
   "source": [
    "## Supplement: pass argument with decorator\n",
    "\n",
    "如果執行 function 需要參數, 記得在 decorator 裡包裝 function 的時候也一並要傳入"
   ]
  },
  {
   "cell_type": "code",
   "execution_count": 4,
   "metadata": {},
   "outputs": [
    {
     "name": "stdout",
     "output_type": "stream",
     "text": [
      "Before func\n",
      "---\n",
      "f1 argument:\n",
      "args = (1, '2', [3], {'4': 4})\n",
      "kwargs = {'time': 'Wed Sep 13 13:36:58 2017'}\n",
      "\n",
      "This is f1 function\n",
      "---\n",
      "After func\n"
     ]
    }
   ],
   "source": [
    "import time\n",
    "from functools import wraps\n",
    "\n",
    "def deco(func):\n",
    "    @wraps(func)\n",
    "    def wrapped(*args, **kwargs):\n",
    "        print('Before func')\n",
    "        print('---')\n",
    "        print('{} argument:\\nargs = {}\\nkwargs = {}\\n'.format(\n",
    "            func.__name__, args, kwargs\n",
    "        ))\n",
    "        func(*args, **kwargs)\n",
    "        print('---')\n",
    "        print('After func')\n",
    "    return wrapped\n",
    "\n",
    "@deco\n",
    "def f1(*args, **kwargs):\n",
    "    print('This is f1 function')\n",
    "    \n",
    "f1(1, '2', [3], {'4': 4}, time=time.ctime())"
   ]
  },
  {
   "cell_type": "markdown",
   "metadata": {},
   "source": [
    "## Decorator with argument\n",
    "\n",
    "前面在使用 decorator 的時候都是直接加上 `@ + decorator name`\n",
    "\n",
    "但你是否有想過既然他是個包裝 function 的 function, 那我們是不是也可以像一般 functino 那樣給予其他的值？"
   ]
  },
  {
   "cell_type": "code",
   "execution_count": 5,
   "metadata": {},
   "outputs": [
    {
     "name": "stdout",
     "output_type": "stream",
     "text": [
      "<p>\n",
      "Hello World.\n",
      "This is second argument.\n",
      "</p>\n"
     ]
    }
   ],
   "source": [
    "from functools import wraps\n",
    "\n",
    "def tag(name):\n",
    "    def deco(func):\n",
    "        @wraps(func)\n",
    "        def wrapped(*args, **kwargs):\n",
    "            print('<{}>'.format(name))\n",
    "            func(*args, **kwargs)\n",
    "            print('</{}>'.format(name))\n",
    "        return wrapped\n",
    "    return deco\n",
    "\n",
    "@tag('p')\n",
    "def content(*args, **kwargs):\n",
    "    for i in args:\n",
    "        print(i)\n",
    "\n",
    "content('Hello World.', 'This is second argument.')"
   ]
  },
  {
   "cell_type": "markdown",
   "metadata": {},
   "source": [
    "### Decorator assignment\n",
    "\n",
    "Python 裏面所有的東西都是 Object, 既然是這樣那 decorator 應該也可以存成其他變數名稱並且正常使用"
   ]
  },
  {
   "cell_type": "code",
   "execution_count": 6,
   "metadata": {},
   "outputs": [
    {
     "name": "stdout",
     "output_type": "stream",
     "text": [
      "<p>\n",
      "Hello World.\n",
      "This is second argument.\n",
      "</p>\n"
     ]
    }
   ],
   "source": [
    "from functools import wraps\n",
    "\n",
    "def tag(name):\n",
    "    def deco(func):\n",
    "        @wraps(func)\n",
    "        def wrapped(*args, **kwargs):\n",
    "            print('<{}>'.format(name))\n",
    "            func(*args, **kwargs)\n",
    "            print('</{}>'.format(name))\n",
    "        return wrapped\n",
    "    return deco\n",
    "\n",
    "tag_p = tag('p')\n",
    "\n",
    "@tag_p\n",
    "def content(*args, **kwargs):\n",
    "    for i in args:\n",
    "        print(i)\n",
    "\n",
    "content('Hello World.', 'This is second argument.')"
   ]
  },
  {
   "cell_type": "markdown",
   "metadata": {},
   "source": [
    "### Decorator assignment (2)\n",
    "\n",
    "既然 decorator 是包裝其他 function, 那 decorator 應該也可以包裝 decorator ?"
   ]
  },
  {
   "cell_type": "code",
   "execution_count": 7,
   "metadata": {},
   "outputs": [
    {
     "name": "stdout",
     "output_type": "stream",
     "text": [
      "<div>\n",
      "<p>\n",
      "Hello World.\n",
      "This is second argument.\n",
      "</p>\n",
      "</div>\n"
     ]
    }
   ],
   "source": [
    "from functools import wraps\n",
    "\n",
    "def tag(name):\n",
    "    def deco(func):\n",
    "        @wraps(func)\n",
    "        def wrapped(*args, **kwargs):\n",
    "            print('<{}>'.format(name))\n",
    "            func(*args, **kwargs)\n",
    "            print('</{}>'.format(name))\n",
    "        return wrapped\n",
    "    return deco\n",
    "\n",
    "tag_div = tag('div')\n",
    "tag_p = tag('p')\n",
    "\n",
    "@tag_div\n",
    "@tag_p\n",
    "def content(*args, **kwargs):\n",
    "    for i in args:\n",
    "        print(i)\n",
    "\n",
    "content('Hello World.', 'This is second argument.')"
   ]
  },
  {
   "cell_type": "markdown",
   "metadata": {},
   "source": [
    "## Decorator scenario\n",
    "\n",
    "### Case 1: Profiling Log\n",
    "\n",
    "可以透過 decorator 寫出漂亮的 Pythonic code (e.g. [link](https://github.com/afunTW/moth-graphcut/blob/gui/src/support/profiling.py))\n",
    "\n",
    "**Task: 重複操作「紀錄當下時間為起始時間」->「執行 function」->「當下時間減掉起始時間為 function 耗時時間」**\n",
    "\n",
    "搭配 logging 還可以設定 log level 為 DEBUG,　這樣可以非常輕鬆的 enable/ disable 這些訊息"
   ]
  },
  {
   "cell_type": "code",
   "execution_count": 8,
   "metadata": {},
   "outputs": [
    {
     "name": "stdout",
     "output_type": "stream",
     "text": [
      "2017-09-13 13:37:10 <ipython-input-8-08c0ce2f790b>:L 25 [   DEBUG] random sleep in 1 sec\n",
      "2017-09-13 13:37:11 <ipython-input-8-08c0ce2f790b>:L 27 [    INFO] Hello World\n",
      "2017-09-13 13:37:11 <ipython-input-8-08c0ce2f790b>:L 28 [   DEBUG] Wake up\n",
      "2017-09-13 13:37:11 <ipython-input-8-08c0ce2f790b>:L 16 [   DEBUG] __main__.test_func_profiling[args=('Hello World',), kwargs={}] completed in 1.0032951831817627\n"
     ]
    }
   ],
   "source": [
    "import time\n",
    "import logging\n",
    "from functools import wraps\n",
    "\n",
    "\n",
    "LOGGER = logging.getLogger(__name__)\n",
    "\n",
    "def func_profiling(func):\n",
    "    @wraps(func)\n",
    "    def wrapped(*args, **kwargs):\n",
    "        start_time = time.time()\n",
    "        result = func(*args, **kwargs)\n",
    "        time_spent = time.time() - start_time\n",
    "        fullname = '{}.{}'.format(func.__module__, func.__name__)\n",
    "        LOGGER.debug('{}[args={}, kwargs={}] completed in {}'.format(\n",
    "            fullname, args, kwargs, time_spent\n",
    "        ))\n",
    "        return result\n",
    "    return wrapped\n",
    "\n",
    "@func_profiling\n",
    "def test_func_profiling(msg=None):\n",
    "    import random\n",
    "    sleep_sec = random.randrange(1,3)\n",
    "    LOGGER.debug('random sleep in {} sec'.format(sleep_sec))\n",
    "    time.sleep(sleep_sec)\n",
    "    LOGGER.info(msg)\n",
    "    LOGGER.debug('Wake up')\n",
    "\n",
    "if __name__ == '__main__':\n",
    "    \"\"\"testing\"\"\"\n",
    "    import sys\n",
    "    logging.basicConfig(\n",
    "        level=logging.DEBUG,\n",
    "        format='%(asctime)s %(filename)12s:L%(lineno)3s [%(levelname)8s] %(message)s',\n",
    "        datefmt='%Y-%m-%d %H:%M:%S',\n",
    "        stream=sys.stdout\n",
    "        )\n",
    "    test_func_profiling('Hello World')"
   ]
  },
  {
   "cell_type": "markdown",
   "metadata": {},
   "source": [
    "### Case 2: Top function exception\n",
    "\n",
    "如果你是一位有良心的工程師, 在你產品裏面應該會留有你的聯絡方式, 讓你的顧客或是交接的人在遇到 exception 的時候可以聯絡的到你"
   ]
  },
  {
   "cell_type": "code",
   "execution_count": 9,
   "metadata": {},
   "outputs": [
    {
     "name": "stdout",
     "output_type": "stream",
     "text": [
      "6/2 = 3.0\n",
      "Unexpected exception, please contant author: afun@example.com\n"
     ]
    }
   ],
   "source": [
    "from functools import wraps\n",
    "\n",
    "def author(email):\n",
    "    def sub_command(func):\n",
    "        @wraps(func)\n",
    "        def wrapped(*args, **kwargs):\n",
    "            try:\n",
    "                func(*args, **kwargs)\n",
    "            except ValueError:\n",
    "                '''you can use your own defined exception'''\n",
    "                print('some useful message to debug')\n",
    "            except Exception:\n",
    "                print('Unexpected exception, please contant author: {}'.format(email))\n",
    "        return wrapped\n",
    "    return sub_command\n",
    "\n",
    "@author('afun@example.com')\n",
    "def divide(a, b):\n",
    "    print('{}/{} = {}'.format(a, b, a/b))\n",
    "    return a/b\n",
    "\n",
    "divide(6, 2)\n",
    "divide(6, 0)"
   ]
  },
  {
   "cell_type": "markdown",
   "metadata": {},
   "source": [
    "### Case 3: Least recently used cache\n",
    "\n",
    "當我們的 function output 是可預期的 (同樣的 input 會有同樣的 output), 可以透過 `lru_cache` 把結果儲存起來, 下一次遇到同樣的 input 時就可以直接從 cache 取出結果而不用重新計算一次\n",
    "\n",
    "詳細細節可以參考[文件](https://docs.python.org/3/library/functools.html#functools.lru_cache)"
   ]
  },
  {
   "cell_type": "code",
   "execution_count": 10,
   "metadata": {},
   "outputs": [
    {
     "name": "stdout",
     "output_type": "stream",
     "text": [
      "do some heavy jobs with input 1\n",
      "1001\n",
      "1001\n",
      "do some heavy jobs with input 2\n",
      "1002\n",
      "1001\n",
      "1002\n"
     ]
    }
   ],
   "source": [
    "from functools import lru_cache\n",
    "\n",
    "@lru_cache()\n",
    "def heavy_jobs(x):\n",
    "    print('do some heavy jobs with input {}'.format(x))\n",
    "    return x+1000\n",
    "\n",
    "print(heavy_jobs(1))\n",
    "print(heavy_jobs(1))\n",
    "print(heavy_jobs(2))\n",
    "print(heavy_jobs(1))\n",
    "print(heavy_jobs(2))"
   ]
  },
  {
   "cell_type": "markdown",
   "metadata": {},
   "source": [
    "### Case 4: Cache to json file\n",
    "\n",
    "對於快速的 debug 非常有幫助, 會把 exception 內容都存成 json\n",
    "\n",
    "**Hint: 這邊 demo 的時候可以操作連續兩次看哪裡不同, 試著觸發 wrapped 內的 exception**"
   ]
  },
  {
   "cell_type": "code",
   "execution_count": 11,
   "metadata": {},
   "outputs": [
    {
     "name": "stdout",
     "output_type": "stream",
     "text": [
      "Before try wrapped\n",
      "Before except wrapped\n",
      "do heavy jobs\n",
      "5\n"
     ]
    }
   ],
   "source": [
    "import json\n",
    "from functools import wraps\n",
    "\n",
    "def cache_json(filename):\n",
    "    def deco(func):\n",
    "        @wraps(func)\n",
    "        def wrapped(*args, **kwargs):\n",
    "            try:\n",
    "                print('Before try wrapped')\n",
    "                return json.load(open(filename))\n",
    "            except FileNotFoundError:\n",
    "                print('Before except wrapped')\n",
    "                data = func(*args, **kwargs)\n",
    "                json.dump(data, open(filename, 'w'))\n",
    "                return data\n",
    "        return wrapped\n",
    "    return deco\n",
    "\n",
    "@cache_json('heavy.json')\n",
    "def heavy_jobs(*args, **kwargs):\n",
    "    print('do heavy jobs')\n",
    "    if 'count' in kwargs:\n",
    "        return kwargs['count']\n",
    "    return\n",
    "\n",
    "print(heavy_jobs(user='afun', count=5))"
   ]
  },
  {
   "cell_type": "markdown",
   "metadata": {},
   "source": [
    "## Decorator trick\n",
    "\n",
    "以上面那些 function 為例, 其實在 wrapped 之前可以做些額外的操作\n",
    "\n",
    "### Function map"
   ]
  },
  {
   "cell_type": "code",
   "execution_count": 12,
   "metadata": {},
   "outputs": [
    {
     "name": "stdout",
     "output_type": "stream",
     "text": [
      "{'f2': <function f2 at 0x7f3c1704a400>, 'f1': <function f1 at 0x7f3c1050d730>}\n"
     ]
    }
   ],
   "source": [
    "from functools import wraps\n",
    "\n",
    "function_map = {}\n",
    "\n",
    "def deco(func):\n",
    "    global function_map\n",
    "    function_map[func.__name__] = func\n",
    "    \n",
    "    @wraps(func)\n",
    "    def wrapped(*args, **kwargs):\n",
    "        func(*args, **kwargs)\n",
    "    return wrapped\n",
    "\n",
    "@deco\n",
    "def f1():\n",
    "    print('This is f1')\n",
    "\n",
    "@deco\n",
    "def f2():\n",
    "    print('This is f2')\n",
    "\n",
    "print(function_map)"
   ]
  },
  {
   "cell_type": "markdown",
   "metadata": {},
   "source": [
    "### Flask\n",
    "\n",
    "Flask 是一種 light-weight 的 python web framework, 因為環境沒有裝我也沒有真正使用過所以就只展示程式碼"
   ]
  },
  {
   "cell_type": "code",
   "execution_count": null,
   "metadata": {
    "collapsed": true
   },
   "outputs": [],
   "source": [
    "from flask import Flask\n",
    "\n",
    "app = Flask(__name__)\n",
    "\n",
    "@app.route('/')\n",
    "def index():\n",
    "    return 'Index page'\n",
    "\n",
    "@app.route('/hello')\n",
    "def hello():\n",
    "    return 'Hello, world!'\n",
    "\n",
    "@app.route('/post/<int:post_id>')\n",
    "def show_post(post_id):\n",
    "    return 'Post {}'.format(post_id)"
   ]
  },
  {
   "cell_type": "markdown",
   "metadata": {},
   "source": [
    "# Context manager\n",
    "\n",
    "## Basic concept\n",
    "\n",
    "所謂 context 就是上下文的意思, 跟 decorator 同樣的地方是他可以在執行跟結束 function 的時候有額外操作"
   ]
  },
  {
   "cell_type": "code",
   "execution_count": 13,
   "metadata": {},
   "outputs": [
    {
     "name": "stdout",
     "output_type": "stream",
     "text": [
      "in enter\n",
      "Hello\n",
      "World\n",
      "in exit\n"
     ]
    }
   ],
   "source": [
    "class my_context(object):\n",
    "    def __enter__(self):\n",
    "        print('in enter')\n",
    "        return 'enter'\n",
    "    def __exit__(self, *excinfo):\n",
    "        print('in exit')\n",
    "        return 'exit'\n",
    "\n",
    "with my_context() as f:\n",
    "    print('Hello')\n",
    "    print('World')"
   ]
  },
  {
   "cell_type": "markdown",
   "metadata": {},
   "source": [
    "上面 `with` 的使用方式同等於下面列的程式碼"
   ]
  },
  {
   "cell_type": "code",
   "execution_count": 14,
   "metadata": {},
   "outputs": [
    {
     "name": "stdout",
     "output_type": "stream",
     "text": [
      "in enter\n",
      "Hello\n",
      "World\n",
      "in exit\n"
     ]
    }
   ],
   "source": [
    "context = my_context()\n",
    "obj = context.__enter__()\n",
    "try:\n",
    "    print('Hello')\n",
    "    print('World')\n",
    "except Exception as e:\n",
    "    if context.__exit__(sys.exc_info()):\n",
    "        raise e\n",
    "else:\n",
    "    context.__exit__()"
   ]
  },
  {
   "cell_type": "markdown",
   "metadata": {},
   "source": [
    "## Context manager decorator\n",
    "\n",
    "內建函式庫 `contextlib` 中有個好用的 decorator `contextmanager` 可以很簡單的將你的 function 變成 context manager"
   ]
  },
  {
   "cell_type": "code",
   "execution_count": 15,
   "metadata": {},
   "outputs": [
    {
     "name": "stdout",
     "output_type": "stream",
     "text": [
      "do things in enter\n",
      "Hello\n",
      "World\n",
      "do things in exit\n"
     ]
    }
   ],
   "source": [
    "from contextlib import contextmanager\n",
    "\n",
    "@contextmanager\n",
    "def my_context():\n",
    "    print('do things in enter')\n",
    "    yield 'It is a feature, not a bug!!!'\n",
    "    print('do things in exit')\n",
    "\n",
    "with my_context() as obj:\n",
    "    print('Hello')\n",
    "    print('World')"
   ]
  },
  {
   "cell_type": "markdown",
   "metadata": {},
   "source": [
    "到這邊你可能會疑惑這兩邊哪裡一樣？然後 yield 的東西呢？\n",
    "\n",
    "其實你可以把 `contextlib.contextmanager` 視為一個轉換工具"
   ]
  },
  {
   "cell_type": "code",
   "execution_count": 16,
   "metadata": {
    "collapsed": true
   },
   "outputs": [],
   "source": [
    "@contextmanager\n",
    "def my_context():\n",
    "    print('do things in enter')\n",
    "    yield 'It is a feature, not a bug!!!'\n",
    "    print('do things in exit')\n",
    "\n",
    "# 透過 contextmanager 轉換, 與下面這段程式碼等價\n",
    "\n",
    "class my_context(object):\n",
    "    def __enter__(self):\n",
    "        print('do things in enter')\n",
    "        return 'It is a feature, not a bug!!!'\n",
    "    def __exit__(self, *excinfo):\n",
    "        print('do things in exit')\n",
    "        return 'exit'"
   ]
  },
  {
   "cell_type": "markdown",
   "metadata": {},
   "source": [
    "### Contextmanager limitation\n",
    "\n",
    "Generator 中只允許一個物件"
   ]
  },
  {
   "cell_type": "code",
   "execution_count": 17,
   "metadata": {},
   "outputs": [
    {
     "name": "stdout",
     "output_type": "stream",
     "text": [
      "line 1\n",
      "line 2\n"
     ]
    },
    {
     "ename": "RuntimeError",
     "evalue": "generator didn't stop",
     "output_type": "error",
     "traceback": [
      "\u001b[0;31m---------------------------------------------------------------------------\u001b[0m",
      "\u001b[0;31mRuntimeError\u001b[0m                              Traceback (most recent call last)",
      "\u001b[0;32m<ipython-input-17-0c22725d7f6f>\u001b[0m in \u001b[0;36m<module>\u001b[0;34m()\u001b[0m\n\u001b[1;32m      8\u001b[0m \u001b[0;32mwith\u001b[0m \u001b[0mmy_context\u001b[0m\u001b[0;34m(\u001b[0m\u001b[0;34m)\u001b[0m\u001b[0;34m:\u001b[0m\u001b[0;34m\u001b[0m\u001b[0m\n\u001b[1;32m      9\u001b[0m     \u001b[0mprint\u001b[0m\u001b[0;34m(\u001b[0m\u001b[0;34m'line 1'\u001b[0m\u001b[0;34m)\u001b[0m\u001b[0;34m\u001b[0m\u001b[0m\n\u001b[0;32m---> 10\u001b[0;31m     \u001b[0mprint\u001b[0m\u001b[0;34m(\u001b[0m\u001b[0;34m'line 2'\u001b[0m\u001b[0;34m)\u001b[0m\u001b[0;34m\u001b[0m\u001b[0m\n\u001b[0m",
      "\u001b[0;32m/usr/lib/python3.5/contextlib.py\u001b[0m in \u001b[0;36m__exit__\u001b[0;34m(self, type, value, traceback)\u001b[0m\n\u001b[1;32m     68\u001b[0m                 \u001b[0;32mreturn\u001b[0m\u001b[0;34m\u001b[0m\u001b[0m\n\u001b[1;32m     69\u001b[0m             \u001b[0;32melse\u001b[0m\u001b[0;34m:\u001b[0m\u001b[0;34m\u001b[0m\u001b[0m\n\u001b[0;32m---> 70\u001b[0;31m                 \u001b[0;32mraise\u001b[0m \u001b[0mRuntimeError\u001b[0m\u001b[0;34m(\u001b[0m\u001b[0;34m\"generator didn't stop\"\u001b[0m\u001b[0;34m)\u001b[0m\u001b[0;34m\u001b[0m\u001b[0m\n\u001b[0m\u001b[1;32m     71\u001b[0m         \u001b[0;32melse\u001b[0m\u001b[0;34m:\u001b[0m\u001b[0;34m\u001b[0m\u001b[0m\n\u001b[1;32m     72\u001b[0m             \u001b[0;32mif\u001b[0m \u001b[0mvalue\u001b[0m \u001b[0;32mis\u001b[0m \u001b[0;32mNone\u001b[0m\u001b[0;34m:\u001b[0m\u001b[0;34m\u001b[0m\u001b[0m\n",
      "\u001b[0;31mRuntimeError\u001b[0m: generator didn't stop"
     ]
    }
   ],
   "source": [
    "from contextlib import contextmanager\n",
    "\n",
    "@contextmanager\n",
    "def my_context():\n",
    "    yield 'Hello'\n",
    "    yield 'World'\n",
    "\n",
    "with my_context():\n",
    "    print('line 1')\n",
    "    print('line 2')"
   ]
  },
  {
   "cell_type": "code",
   "execution_count": 18,
   "metadata": {},
   "outputs": [
    {
     "name": "stdout",
     "output_type": "stream",
     "text": [
      "line 1\n",
      "line 2\n"
     ]
    },
    {
     "ename": "RuntimeError",
     "evalue": "generator didn't stop",
     "output_type": "error",
     "traceback": [
      "\u001b[0;31m---------------------------------------------------------------------------\u001b[0m",
      "\u001b[0;31mRuntimeError\u001b[0m                              Traceback (most recent call last)",
      "\u001b[0;32m<ipython-input-18-b141e9d6bce3>\u001b[0m in \u001b[0;36m<module>\u001b[0;34m()\u001b[0m\n\u001b[1;32m      8\u001b[0m \u001b[0;32mwith\u001b[0m \u001b[0mcontext_loop\u001b[0m\u001b[0;34m(\u001b[0m\u001b[0;34m)\u001b[0m\u001b[0;34m:\u001b[0m\u001b[0;34m\u001b[0m\u001b[0m\n\u001b[1;32m      9\u001b[0m     \u001b[0mprint\u001b[0m\u001b[0;34m(\u001b[0m\u001b[0;34m'line 1'\u001b[0m\u001b[0;34m)\u001b[0m\u001b[0;34m\u001b[0m\u001b[0m\n\u001b[0;32m---> 10\u001b[0;31m     \u001b[0mprint\u001b[0m\u001b[0;34m(\u001b[0m\u001b[0;34m'line 2'\u001b[0m\u001b[0;34m)\u001b[0m\u001b[0;34m\u001b[0m\u001b[0m\n\u001b[0m",
      "\u001b[0;32m/usr/lib/python3.5/contextlib.py\u001b[0m in \u001b[0;36m__exit__\u001b[0;34m(self, type, value, traceback)\u001b[0m\n\u001b[1;32m     68\u001b[0m                 \u001b[0;32mreturn\u001b[0m\u001b[0;34m\u001b[0m\u001b[0m\n\u001b[1;32m     69\u001b[0m             \u001b[0;32melse\u001b[0m\u001b[0;34m:\u001b[0m\u001b[0;34m\u001b[0m\u001b[0m\n\u001b[0;32m---> 70\u001b[0;31m                 \u001b[0;32mraise\u001b[0m \u001b[0mRuntimeError\u001b[0m\u001b[0;34m(\u001b[0m\u001b[0;34m\"generator didn't stop\"\u001b[0m\u001b[0;34m)\u001b[0m\u001b[0;34m\u001b[0m\u001b[0m\n\u001b[0m\u001b[1;32m     71\u001b[0m         \u001b[0;32melse\u001b[0m\u001b[0;34m:\u001b[0m\u001b[0;34m\u001b[0m\u001b[0m\n\u001b[1;32m     72\u001b[0m             \u001b[0;32mif\u001b[0m \u001b[0mvalue\u001b[0m \u001b[0;32mis\u001b[0m \u001b[0;32mNone\u001b[0m\u001b[0;34m:\u001b[0m\u001b[0;34m\u001b[0m\u001b[0m\n",
      "\u001b[0;31mRuntimeError\u001b[0m: generator didn't stop"
     ]
    }
   ],
   "source": [
    "from contextlib import contextmanager\n",
    "\n",
    "@contextmanager\n",
    "def context_loop():\n",
    "    for i in range(100):\n",
    "        yield i\n",
    "\n",
    "with context_loop():\n",
    "    print('line 1')\n",
    "    print('line 2')"
   ]
  },
  {
   "cell_type": "code",
   "execution_count": 19,
   "metadata": {},
   "outputs": [
    {
     "name": "stdout",
     "output_type": "stream",
     "text": [
      "in condition\n",
      "line 1\n",
      "line 2\n",
      "else case\n",
      "line 3\n",
      "line 4\n"
     ]
    }
   ],
   "source": [
    "from contextlib import contextmanager\n",
    "\n",
    "@contextmanager\n",
    "def context_condition(cond):\n",
    "    if cond:\n",
    "        yield 'in condition'\n",
    "    else:\n",
    "        yield 'else case'\n",
    "\n",
    "with context_condition(True) as f1:\n",
    "    print(f1)\n",
    "    print('line 1')\n",
    "    print('line 2')\n",
    "\n",
    "with context_condition(False) as f2:\n",
    "    print(f2)\n",
    "    print('line 3')\n",
    "    print('line 4')"
   ]
  },
  {
   "cell_type": "code",
   "execution_count": 20,
   "metadata": {},
   "outputs": [
    {
     "name": "stdout",
     "output_type": "stream",
     "text": [
      "line 1\n",
      "line 2\n",
      "finally\n"
     ]
    }
   ],
   "source": [
    "from contextlib import contextmanager\n",
    "\n",
    "@contextmanager\n",
    "def context_try(cond):\n",
    "    try:\n",
    "        yield 'normal'\n",
    "    except Exception:\n",
    "        print('exception')\n",
    "    finally:\n",
    "        print('finally')\n",
    "\n",
    "with context_try(True):\n",
    "    print('line 1')\n",
    "    print('line 2')"
   ]
  },
  {
   "cell_type": "markdown",
   "metadata": {},
   "source": [
    "## `with` statement\n",
    "\n",
    "所以說到底 `with` 是甚麼？ 根據 [PEP 343](https://www.python.org/dev/peps/pep-0343/) 的說法, with 基本上就是 try/finally 的實現\n",
    "\n",
    "```\n",
    "Abstract\n",
    "    This PEP adds a new statement \"with\" to the Python language to make\n",
    "    it possible to factor out standard uses of try/finally statements.\n",
    "\n",
    "    In this PEP, context managers provide __enter__() and __exit__()\n",
    "    methods that are invoked on entry to and exit from the body of the\n",
    "    with statement.\n",
    "```"
   ]
  },
  {
   "cell_type": "code",
   "execution_count": 21,
   "metadata": {
    "collapsed": true
   },
   "outputs": [],
   "source": [
    "fp = open('test.txt', 'w+')\n",
    "try:\n",
    "    fp.write('Hello world')\n",
    "finally:\n",
    "    fp.close()\n",
    "    \n",
    "# 上面這種寫法透過 with 實現的話會變成下面這種程式碼\n",
    "\n",
    "with open('test.txt', 'w+') as fp:\n",
    "    fp.write('Hello world')"
   ]
  },
  {
   "cell_type": "markdown",
   "metadata": {},
   "source": [
    "### `with` + `@contextmanager`\n",
    "\n",
    "複習一下: 我們可以透過 `with` 來做 try/finally 的實現, 還可以透過 `contextmanager` 來實現上下文管理, 那如果同時使用這兩個呢？\n",
    "\n",
    "**在 try/finally 架構中實現上下文管理**\n",
    "\n",
    "先經過 `__enter__` entry, 然後 try/finally 本文, 最後再透過 `__exit__` 離開這個 block"
   ]
  },
  {
   "cell_type": "code",
   "execution_count": 22,
   "metadata": {},
   "outputs": [
    {
     "name": "stdout",
     "output_type": "stream",
     "text": [
      "<div>\n",
      "content 1\n",
      "</div>\n"
     ]
    }
   ],
   "source": [
    "from contextlib import contextmanager\n",
    "\n",
    "@contextmanager\n",
    "def tag(name):\n",
    "    print('<{}>'.format(name))\n",
    "    yield\n",
    "    print('</{}>'.format(name))\n",
    "\n",
    "with tag('div'):\n",
    "    print('content 1')"
   ]
  },
  {
   "cell_type": "code",
   "execution_count": 23,
   "metadata": {},
   "outputs": [
    {
     "name": "stdout",
     "output_type": "stream",
     "text": [
      "<div>\n",
      "<p>\n",
      "content 1\n",
      "</p>\n",
      "</div>\n",
      "\n",
      "<div>\n",
      "<h1>\n",
      "content 2\n",
      "</h1>\n",
      "</div>\n"
     ]
    }
   ],
   "source": [
    "from contextlib import contextmanager\n",
    "\n",
    "@contextmanager\n",
    "def tag(name):\n",
    "    print('<{}>'.format(name))\n",
    "    yield\n",
    "    print('</{}>'.format(name))\n",
    "\n",
    "# nested\n",
    "with tag('div'):\n",
    "    with tag('p'):\n",
    "        print('content 1')\n",
    "\n",
    "print()\n",
    "        \n",
    "# multiple\n",
    "with tag('div'), tag('h1'):\n",
    "    print('content 2')"
   ]
  },
  {
   "cell_type": "markdown",
   "metadata": {},
   "source": [
    "### Case 1: redirect stdout to file\n",
    "\n",
    "重新把原本會輸出在 stdout 的訊息導到 file descriptor"
   ]
  },
  {
   "cell_type": "code",
   "execution_count": 24,
   "metadata": {},
   "outputs": [],
   "source": [
    "from contextlib import redirect_stdout\n",
    "\n",
    "with open('test_redirect.txt', 'w+') as f:\n",
    "    with redirect_stdout(f):\n",
    "        help(redirect_stdout)\n",
    "        print('afun defined message')"
   ]
  },
  {
   "cell_type": "markdown",
   "metadata": {},
   "source": [
    "### Case 2: timeit\n",
    "\n",
    "前面有提到透過 decorator 來做 function 的 profiling, 但假如我今天不是要對 function, 而是單純要對某個 block 的程式碼做 profiling 呢? 是否要把這個 block 包成 function 再做 profiling ?\n",
    "\n",
    "這個時候上面提到的 `@contextmanager` 就派上用場了, 透過 contextmanager 在 entry point 跟 exit point 都紀錄時間來計算耗時"
   ]
  },
  {
   "cell_type": "code",
   "execution_count": 25,
   "metadata": {},
   "outputs": [
    {
     "name": "stdout",
     "output_type": "stream",
     "text": [
      "afun 1 - completed in 0.006175\n",
      "afun 2 - completed in 0.012578\n",
      "afun 3 - completed in 0.009176\n"
     ]
    }
   ],
   "source": [
    "from contextlib import contextmanager\n",
    "import time\n",
    "\n",
    "@contextmanager\n",
    "def timeit(name=''):\n",
    "    start_time = time.time()\n",
    "    yield\n",
    "    elapse_time = time.time() - start_time\n",
    "    print('{} - completed in {:.6f}'.format(name, elapse_time))\n",
    "\n",
    "# note: comprehension speed seens slower when range(10)\n",
    "test = [i for i in range(100000)]\n",
    "\n",
    "with timeit('afun 1'):\n",
    "    a = [i for i in test if i % 2 == 0]\n",
    "\n",
    "with timeit('afun 2'):\n",
    "    b = []\n",
    "    for i in test:\n",
    "        if i % 2 == 0:\n",
    "            b.append(i)\n",
    "\n",
    "@timeit('afun 3')\n",
    "def func(test_list):\n",
    "    result = []\n",
    "    for i in test_list:\n",
    "        if i % 2 == 0:\n",
    "            result.append(i)\n",
    "    return result\n",
    "\n",
    "c = func(test)"
   ]
  },
  {
   "cell_type": "markdown",
   "metadata": {},
   "source": [
    "### Study 1: Detail of contextmanager\n",
    "\n",
    "contextmanger 是一個為了 `with` statement 做出來不用特別建立具有 `__enter__` 跟 `__exit__` class 的 decorator\n",
    "\n",
    "我們可以觀察原始碼近一步了解內部運作機制\n",
    "\n",
    "- [contextmanager](https://github.com/python/cpython/blob/3.6/Lib/contextlib.py#L129-L160)\n",
    "- [ContextDecorator](https://github.com/python/cpython/blob/3.6/Lib/contextlib.py#L33-L53)"
   ]
  },
  {
   "cell_type": "code",
   "execution_count": 26,
   "metadata": {
    "collapsed": true
   },
   "outputs": [],
   "source": [
    "from functools import wraps\n",
    "\n",
    "# contextmanager 原始碼\n",
    "# 這邊就是我們上面提過的 decorator 寫法\n",
    "# 雖然他是回傳 _GeneratorContextManager 這個 helper class, 但其實這邊主要是透過 ContextDecorator 實作\n",
    "def contextmanager(func):\n",
    "    @wraps(func)\n",
    "    def helper(*args, **kwds):\n",
    "        return _GeneratorContextManager(func, args, kwds)\n",
    "    return helper\n",
    "\n",
    "# ContextDecorator 原始碼\n",
    "# _recreate_cm 會回傳自己的 instance\n",
    "class ContextDecorator(object):\n",
    "\n",
    "    def _recreate_cm(self):\n",
    "        return self\n",
    "    \n",
    "    def __call__(self, func):\n",
    "        @wraps(func)\n",
    "        def inner(*args, **kwds):\n",
    "            with self._recreate_cm():\n",
    "                return func(*args, **kwds)\n",
    "        return inner"
   ]
  },
  {
   "cell_type": "markdown",
   "metadata": {},
   "source": [
    "透過上面的原始碼你可以發現 `contextmanager` 目前有兩點限制\n",
    "\n",
    "1. 沒有 func 的資訊, 雖然我們用 wrap 保存了 func 資訊, 但是沒做任何操作, 也沒有任何 entry point 可以讓我們塞程式碼來了顯示 func 資訊\n",
    "2. 沒辦法修改 return, 原因同上, 這邊沒有任何可以外部增加的程式碼或是 flag"
   ]
  }
 ],
 "metadata": {
  "kernelspec": {
   "display_name": "Python 3",
   "language": "python",
   "name": "python3"
  },
  "language_info": {
   "codemirror_mode": {
    "name": "ipython",
    "version": 3
   },
   "file_extension": ".py",
   "mimetype": "text/x-python",
   "name": "python",
   "nbconvert_exporter": "python",
   "pygments_lexer": "ipython3",
   "version": "3.5.2"
  }
 },
 "nbformat": 4,
 "nbformat_minor": 2
}
